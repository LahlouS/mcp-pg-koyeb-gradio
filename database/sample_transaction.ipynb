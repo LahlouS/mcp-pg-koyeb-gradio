{
 "cells": [
  {
   "cell_type": "markdown",
   "metadata": {},
   "source": [
    "## **Sampling the Database for demo purpose because the original Dataset is 5GB**"
   ]
  },
  {
   "cell_type": "markdown",
   "metadata": {},
   "source": [
    "to do the same, dowload the Dataset from there: https://www.kaggle.com/competitions/h-and-m-personalized-fashion-recommendations/data\n",
    "\n",
    "in the current folder. make sure you have the three file:\n",
    "- `customers.csv`\n",
    "- `articles.csv`\n",
    "- `transactions.csv`\n",
    "\n",
    "then run this jupyter notebook to sample the transactions file and the customers file based on the newly created transaction file"
   ]
  },
  {
   "cell_type": "code",
   "execution_count": 4,
   "metadata": {},
   "outputs": [],
   "source": [
    "import pandas as pd"
   ]
  },
  {
   "cell_type": "code",
   "execution_count": null,
   "metadata": {},
   "outputs": [
    {
     "name": "stdout",
     "output_type": "stream",
     "text": [
      "4768249\n"
     ]
    }
   ],
   "source": [
    "transactions = pd.read_csv(\"transactions_train.csv\")\n",
    "transactions = transactions.sample(frac=0.15, random_state=42)\n",
    "\n",
    "print(len(transactions))"
   ]
  },
  {
   "cell_type": "code",
   "execution_count": 7,
   "metadata": {},
   "outputs": [],
   "source": [
    "transactions.to_csv(\"transaction_sample.csv\", index=None)\n"
   ]
  },
  {
   "cell_type": "code",
   "execution_count": 10,
   "metadata": {},
   "outputs": [],
   "source": [
    "transactions = pd.read_csv(\"transaction_sample.csv\")\n",
    "customers_df = pd.read_csv(\"customers.csv\")\n",
    "# Get unique customer IDs from the sampled transactions\n",
    "sampled_customer_ids = transactions['customer_id'].unique()\n",
    "\n",
    "# Filter the customer dataframe to keep only those in the sample\n",
    "customers_df_filtered = customers_df[customers_df['customer_id'].isin(sampled_customer_ids)].copy()\n"
   ]
  },
  {
   "cell_type": "code",
   "execution_count": 11,
   "metadata": {},
   "outputs": [
    {
     "name": "stdout",
     "output_type": "stream",
     "text": [
      "Original customer count: 1371980\n",
      "Filtered customer count: 940287\n"
     ]
    }
   ],
   "source": [
    "print(f\"Original customer count: {len(customers_df)}\")\n",
    "print(f\"Filtered customer count: {len(customers_df_filtered)}\")\n"
   ]
  },
  {
   "cell_type": "code",
   "execution_count": 12,
   "metadata": {},
   "outputs": [],
   "source": [
    "customers_df_filtered.to_csv(\"customers_df_filtered.csv\", index=None)\n"
   ]
  },
  {
   "cell_type": "code",
   "execution_count": 15,
   "metadata": {},
   "outputs": [
    {
     "data": {
      "text/plain": [
       "'000064249685c11552da43ef22a5030f35a147f723d5b02ddd9fd22452b1f5a6'"
      ]
     },
     "execution_count": 15,
     "metadata": {},
     "output_type": "execute_result"
    }
   ],
   "source": [
    "customers_df_filtered.iloc[4][\"customer_id\"]"
   ]
  },
  {
   "cell_type": "code",
   "execution_count": 16,
   "metadata": {},
   "outputs": [
    {
     "data": {
      "text/html": [
       "<div>\n",
       "<style scoped>\n",
       "    .dataframe tbody tr th:only-of-type {\n",
       "        vertical-align: middle;\n",
       "    }\n",
       "\n",
       "    .dataframe tbody tr th {\n",
       "        vertical-align: top;\n",
       "    }\n",
       "\n",
       "    .dataframe thead th {\n",
       "        text-align: right;\n",
       "    }\n",
       "</style>\n",
       "<table border=\"1\" class=\"dataframe\">\n",
       "  <thead>\n",
       "    <tr style=\"text-align: right;\">\n",
       "      <th></th>\n",
       "      <th>t_dat</th>\n",
       "      <th>customer_id</th>\n",
       "      <th>article_id</th>\n",
       "      <th>price</th>\n",
       "      <th>sales_channel_id</th>\n",
       "    </tr>\n",
       "  </thead>\n",
       "  <tbody>\n",
       "    <tr>\n",
       "      <th>2682476</th>\n",
       "      <td>2019-10-02</td>\n",
       "      <td>000064249685c11552da43ef22a5030f35a147f723d5b0...</td>\n",
       "      <td>738133005</td>\n",
       "      <td>0.016932</td>\n",
       "      <td>2</td>\n",
       "    </tr>\n",
       "  </tbody>\n",
       "</table>\n",
       "</div>"
      ],
      "text/plain": [
       "              t_dat                                        customer_id  \\\n",
       "2682476  2019-10-02  000064249685c11552da43ef22a5030f35a147f723d5b0...   \n",
       "\n",
       "         article_id     price  sales_channel_id  \n",
       "2682476   738133005  0.016932                 2  "
      ]
     },
     "execution_count": 16,
     "metadata": {},
     "output_type": "execute_result"
    }
   ],
   "source": [
    "transactions[transactions[\"customer_id\"] == \"000064249685c11552da43ef22a5030f35a147f723d5b02ddd9fd22452b1f5a6\"]"
   ]
  },
  {
   "cell_type": "code",
   "execution_count": null,
   "metadata": {},
   "outputs": [],
   "source": []
  }
 ],
 "metadata": {
  "kernelspec": {
   "display_name": "devIA",
   "language": "python",
   "name": "python3"
  },
  "language_info": {
   "codemirror_mode": {
    "name": "ipython",
    "version": 3
   },
   "file_extension": ".py",
   "mimetype": "text/x-python",
   "name": "python",
   "nbconvert_exporter": "python",
   "pygments_lexer": "ipython3",
   "version": "3.12.2"
  }
 },
 "nbformat": 4,
 "nbformat_minor": 2
}
